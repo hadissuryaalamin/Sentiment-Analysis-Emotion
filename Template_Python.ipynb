{
  "nbformat": 4,
  "nbformat_minor": 0,
  "metadata": {
    "colab": {
      "provenance": [],
      "authorship_tag": "ABX9TyMjBtZzo0XgEmbwj7Lej9p9",
      "include_colab_link": true
    },
    "kernelspec": {
      "name": "python3",
      "display_name": "Python 3"
    },
    "language_info": {
      "name": "python"
    }
  },
  "cells": [
    {
      "cell_type": "markdown",
      "metadata": {
        "id": "view-in-github",
        "colab_type": "text"
      },
      "source": [
        "<a href=\"https://colab.research.google.com/github/hadissuryaalamin/Sentiment-Analysis-Emotion/blob/main/Template_Python.ipynb\" target=\"_parent\"><img src=\"https://colab.research.google.com/assets/colab-badge.svg\" alt=\"Open In Colab\"/></a>"
      ]
    },
    {
      "cell_type": "markdown",
      "source": [
        "# Which category most profitable in west region and profit each transaction is more than 50"
      ],
      "metadata": {
        "id": "qqJBLsOM2yEp"
      }
    },
    {
      "cell_type": "markdown",
      "source": [
        "# Preparing Data"
      ],
      "metadata": {
        "id": "JvsdxzQP3XKo"
      }
    },
    {
      "cell_type": "code",
      "source": [
        "import pandas as pd"
      ],
      "metadata": {
        "id": "lGQqF5DRrs7X"
      },
      "execution_count": 14,
      "outputs": []
    },
    {
      "cell_type": "code",
      "source": [
        "df = pd.read_csv('/content/Superstore.csv', encoding='unicode_escape')\n",
        "#check dtypes\n",
        "print(df.dtypes)\n",
        "print(df.head())"
      ],
      "metadata": {
        "colab": {
          "base_uri": "https://localhost:8080/"
        },
        "id": "iq_74VCfr748",
        "outputId": "76fdec43-25db-40e8-c896-3539e28ea4ec"
      },
      "execution_count": 70,
      "outputs": [
        {
          "output_type": "stream",
          "name": "stdout",
          "text": [
            "Row ID             int64\n",
            "Order ID          object\n",
            "Order Date        object\n",
            "Ship Date         object\n",
            "Ship Mode         object\n",
            "Customer ID       object\n",
            "Customer Name     object\n",
            "Segment           object\n",
            "Country           object\n",
            "City              object\n",
            "State             object\n",
            "Postal Code        int64\n",
            "Region            object\n",
            "Product ID        object\n",
            "Category          object\n",
            "Sub-Category      object\n",
            "Product Name      object\n",
            "Sales            float64\n",
            "Quantity           int64\n",
            "Discount         float64\n",
            "Profit           float64\n",
            "dtype: object\n",
            "   Row ID        Order ID  Order Date   Ship Date       Ship Mode Customer ID  \\\n",
            "0       1  CA-2016-152156   11/8/2016  11/11/2016    Second Class    CG-12520   \n",
            "1       2  CA-2016-152156   11/8/2016  11/11/2016    Second Class    CG-12520   \n",
            "2       3  CA-2016-138688   6/12/2016   6/16/2016    Second Class    DV-13045   \n",
            "3       4  US-2015-108966  10/11/2015  10/18/2015  Standard Class    SO-20335   \n",
            "4       5  US-2015-108966  10/11/2015  10/18/2015  Standard Class    SO-20335   \n",
            "\n",
            "     Customer Name    Segment        Country             City  ...  \\\n",
            "0      Claire Gute   Consumer  United States        Henderson  ...   \n",
            "1      Claire Gute   Consumer  United States        Henderson  ...   \n",
            "2  Darrin Van Huff  Corporate  United States      Los Angeles  ...   \n",
            "3   Sean O'Donnell   Consumer  United States  Fort Lauderdale  ...   \n",
            "4   Sean O'Donnell   Consumer  United States  Fort Lauderdale  ...   \n",
            "\n",
            "  Postal Code  Region       Product ID         Category Sub-Category  \\\n",
            "0       42420   South  FUR-BO-10001798        Furniture    Bookcases   \n",
            "1       42420   South  FUR-CH-10000454        Furniture       Chairs   \n",
            "2       90036    West  OFF-LA-10000240  Office Supplies       Labels   \n",
            "3       33311   South  FUR-TA-10000577        Furniture       Tables   \n",
            "4       33311   South  OFF-ST-10000760  Office Supplies      Storage   \n",
            "\n",
            "                                        Product Name     Sales  Quantity  \\\n",
            "0                  Bush Somerset Collection Bookcase  261.9600         2   \n",
            "1  Hon Deluxe Fabric Upholstered Stacking Chairs,...  731.9400         3   \n",
            "2  Self-Adhesive Address Labels for Typewriters b...   14.6200         2   \n",
            "3      Bretford CR4500 Series Slim Rectangular Table  957.5775         5   \n",
            "4                     Eldon Fold 'N Roll Cart System   22.3680         2   \n",
            "\n",
            "   Discount    Profit  \n",
            "0      0.00   41.9136  \n",
            "1      0.00  219.5820  \n",
            "2      0.00    6.8714  \n",
            "3      0.45 -383.0310  \n",
            "4      0.20    2.5164  \n",
            "\n",
            "[5 rows x 21 columns]\n"
          ]
        }
      ]
    },
    {
      "cell_type": "code",
      "source": [
        "#check unique value\n",
        "def check_unique_values(dataframe, column=None):\n",
        "    \"\"\"\n",
        "    Check unique values for a specific column or for all columns in the DataFrame.\n",
        "\n",
        "    Parameters:\n",
        "        dataframe (pd.DataFrame): The DataFrame to check.\n",
        "        column (str, optional): The specific column to check. If None, check all columns. Default is None.\n",
        "    \"\"\"\n",
        "    if column:\n",
        "        unique_values = dataframe[column].unique()\n",
        "        print(f\"Column: {column}\")\n",
        "        print(f\"Unique Values: {unique_values}\")\n",
        "        print(f\"Number of Unique Values: {len(unique_values)}\")\n",
        "        print(\"\")\n",
        "    else:\n",
        "        for column in dataframe.columns:\n",
        "            unique_values = dataframe[column].unique()\n",
        "            print(f\"Column: {column}\")\n",
        "            print(f\"Unique Values: {unique_values}\")\n",
        "            print(f\"Number of Unique Values: {len(unique_values)}\")\n",
        "            print(\"\")"
      ],
      "metadata": {
        "id": "K4Lc4unfsYlV"
      },
      "execution_count": 33,
      "outputs": []
    },
    {
      "cell_type": "code",
      "source": [
        "#check spesific column\n",
        "check_unique_values(df, column='Profit')"
      ],
      "metadata": {
        "id": "KBDq2aMxtpsS"
      },
      "execution_count": null,
      "outputs": []
    },
    {
      "cell_type": "code",
      "source": [
        "#check all column\n",
        "check_unique_values(df)"
      ],
      "metadata": {
        "id": "B6StZAAgtzWc"
      },
      "execution_count": null,
      "outputs": []
    },
    {
      "cell_type": "markdown",
      "source": [
        "# 0. Handling Missing Data (optional)"
      ],
      "metadata": {
        "id": "y1ECKqej3bce"
      }
    },
    {
      "cell_type": "code",
      "source": [
        "#belum"
      ],
      "metadata": {
        "id": "X25gb69W3m2O"
      },
      "execution_count": null,
      "outputs": []
    },
    {
      "cell_type": "markdown",
      "source": [
        "# 1. Converting"
      ],
      "metadata": {
        "id": "Zmt-LZe9wLt6"
      }
    },
    {
      "cell_type": "code",
      "execution_count": 35,
      "metadata": {
        "id": "7cm7MYxPrflw"
      },
      "outputs": [],
      "source": [
        "def convert_data_types(dataframe, columns_and_types):\n",
        "    \"\"\"\n",
        "    Convert specified columns to specified data types including datetime.\n",
        "\n",
        "    Parameters:\n",
        "        dataframe (pd.DataFrame): The DataFrame containing the columns to be converted.\n",
        "        columns_and_types (dict): A dictionary where keys are column names and values are desired data types.\n",
        "            Valid data types: int, float, bool, str, datetime\n",
        "\n",
        "    Returns:\n",
        "        pd.DataFrame: The DataFrame with specified columns converted to specified data types.\n",
        "    \"\"\"\n",
        "    for column, dtype in columns_and_types.items():\n",
        "        if dtype == 'datetime':\n",
        "            dataframe[column] = pd.to_datetime(dataframe[column])\n",
        "        else:\n",
        "            dataframe[column] = dataframe[column].astype(dtype)\n",
        "    return dataframe"
      ]
    },
    {
      "cell_type": "code",
      "source": [
        "#insert column and dtypes that want to be converted\n",
        "columns_and_types = {\n",
        "    'Order Date': 'datetime',\n",
        "    'Ship Date': 'datetime'\n",
        "}\n",
        "\n",
        "converted_df = convert_data_types(df, columns_and_types)\n",
        "#recheck converting dtypes\n",
        "print(converted_df.dtypes)"
      ],
      "metadata": {
        "id": "bP-3pFjasNqT"
      },
      "execution_count": 36,
      "outputs": []
    },
    {
      "cell_type": "markdown",
      "source": [
        "# 2. Filtering"
      ],
      "metadata": {
        "id": "Ww1IIj2zwGjO"
      }
    },
    {
      "cell_type": "code",
      "source": [
        "def filter_data(dataframe, condition):\n",
        "    \"\"\"\n",
        "    Filters a DataFrame based on a condition.\n",
        "\n",
        "    Parameters:\n",
        "        dataframe (pd.DataFrame): The DataFrame to be filtered.\n",
        "        condition (str): The condition to filter the DataFrame with.\n",
        "\n",
        "    Returns:\n",
        "        pd.DataFrame: The filtered DataFrame.\n",
        "    \"\"\"\n",
        "    filtered_df = dataframe[condition]\n",
        "    return filtered_df"
      ],
      "metadata": {
        "id": "9SXnaA-6vd9y"
      },
      "execution_count": 63,
      "outputs": []
    },
    {
      "cell_type": "code",
      "source": [
        "condition1 = df['Region'] == 'West'\n",
        "condition2 = df['Profit'] > 50\n",
        "\n",
        "filtered_df = filter_data(df, condition1 & condition2)\n",
        "print(filtered_df.head())"
      ],
      "metadata": {
        "colab": {
          "base_uri": "https://localhost:8080/"
        },
        "id": "-DehxzuSwWUy",
        "outputId": "d07b2634-7636-4cb8-f48f-7b8688205bff"
      },
      "execution_count": 64,
      "outputs": [
        {
          "output_type": "stream",
          "name": "stdout",
          "text": [
            "    Row ID        Order ID Order Date  Ship Date       Ship Mode Customer ID  \\\n",
            "7        8  CA-2014-115812 2014-06-09 2014-06-14  Standard Class    BH-11710   \n",
            "10      11  CA-2014-115812 2014-06-09 2014-06-14  Standard Class    BH-11710   \n",
            "11      12  CA-2014-115812 2014-06-09 2014-06-14  Standard Class    BH-11710   \n",
            "13      14  CA-2016-161389 2016-12-05 2016-12-10  Standard Class    IM-15070   \n",
            "24      25  CA-2015-106320 2015-09-25 2015-09-30  Standard Class    EB-13870   \n",
            "\n",
            "      Customer Name   Segment        Country         City  ... Postal Code  \\\n",
            "7   Brosina Hoffman  Consumer  United States  Los Angeles  ...       90032   \n",
            "10  Brosina Hoffman  Consumer  United States  Los Angeles  ...       90032   \n",
            "11  Brosina Hoffman  Consumer  United States  Los Angeles  ...       90032   \n",
            "13     Irene Maddox  Consumer  United States      Seattle  ...       98103   \n",
            "24      Emily Burns  Consumer  United States         Orem  ...       84057   \n",
            "\n",
            "    Region       Product ID         Category Sub-Category  \\\n",
            "7     West  TEC-PH-10002275       Technology       Phones   \n",
            "10    West  FUR-TA-10001539        Furniture       Tables   \n",
            "11    West  TEC-PH-10002033       Technology       Phones   \n",
            "13    West  OFF-BI-10003656  Office Supplies      Binders   \n",
            "24    West  FUR-TA-10000577        Furniture       Tables   \n",
            "\n",
            "                                     Product Name     Sales  Quantity  \\\n",
            "7                  Mitel 5320 IP Phone VoIP phone   907.152         6   \n",
            "10       Chromcraft Rectangular Conference Tables  1706.184         9   \n",
            "11  Konftel 250 Conference phone - Charcoal black   911.424         4   \n",
            "13    Fellowes PB200 Plastic Comb Binding Machine   407.976         3   \n",
            "24  Bretford CR4500 Series Slim Rectangular Table  1044.630         3   \n",
            "\n",
            "    Discount    Profit  \n",
            "7        0.2   90.7152  \n",
            "10       0.2   85.3092  \n",
            "11       0.2   68.3568  \n",
            "13       0.2  132.5922  \n",
            "24       0.0  240.2649  \n",
            "\n",
            "[5 rows x 21 columns]\n"
          ]
        }
      ]
    },
    {
      "cell_type": "markdown",
      "source": [
        "#3. Column Selecting"
      ],
      "metadata": {
        "id": "olBZ1TDwzZxr"
      }
    },
    {
      "cell_type": "code",
      "source": [
        "column_selected_df = filtered_df[['Region','Category','Profit']]\n",
        "\n",
        "print(column_selected_df.head())"
      ],
      "metadata": {
        "colab": {
          "base_uri": "https://localhost:8080/"
        },
        "id": "8iNenOzpzVj6",
        "outputId": "412f81d3-93c0-4e46-b973-258be90a29c8"
      },
      "execution_count": 65,
      "outputs": [
        {
          "output_type": "stream",
          "name": "stdout",
          "text": [
            "   Region         Category    Profit\n",
            "7    West       Technology   90.7152\n",
            "10   West        Furniture   85.3092\n",
            "11   West       Technology   68.3568\n",
            "13   West  Office Supplies  132.5922\n",
            "24   West        Furniture  240.2649\n"
          ]
        }
      ]
    },
    {
      "cell_type": "markdown",
      "source": [
        "# 4. Aggregating"
      ],
      "metadata": {
        "id": "e1FTzLFT0oMJ"
      }
    },
    {
      "cell_type": "code",
      "source": [
        "def aggregate_data(dataframe, group_by_columns, aggregation_functions):\n",
        "    \"\"\"\n",
        "    Aggregates data in a DataFrame based on specified columns and aggregation functions.\n",
        "\n",
        "    Parameters:\n",
        "        dataframe (pd.DataFrame): The DataFrame to be aggregated.\n",
        "        group_by_columns (list): A list of column names to group by.\n",
        "        aggregation_functions (dict): A dictionary where keys are column names and values are aggregation functions.\n",
        "\n",
        "    Returns:\n",
        "        pd.DataFrame: The aggregated DataFrame.\n",
        "    \"\"\"\n",
        "    aggregated_df = dataframe.groupby(group_by_columns).agg(aggregation_functions).reset_index()\n",
        "    return aggregated_df"
      ],
      "metadata": {
        "id": "62MDOJQD0tAb"
      },
      "execution_count": 66,
      "outputs": []
    },
    {
      "cell_type": "code",
      "source": [
        "aggregated_df = aggregate_data(column_selected_df, 'Category', 'sum')\n",
        "\n",
        "print(aggregated_df)"
      ],
      "metadata": {
        "colab": {
          "base_uri": "https://localhost:8080/"
        },
        "id": "HErDV-Ls0zkQ",
        "outputId": "f1119ada-3512-4860-eb54-724c5243d49b"
      },
      "execution_count": 67,
      "outputs": [
        {
          "output_type": "stream",
          "name": "stdout",
          "text": [
            "          Category      Profit\n",
            "0        Furniture  17409.3833\n",
            "1  Office Supplies  37926.4257\n",
            "2       Technology  43723.8178\n"
          ]
        },
        {
          "output_type": "stream",
          "name": "stderr",
          "text": [
            "<ipython-input-66-6ed9937b29b0>:13: FutureWarning: The default value of numeric_only in DataFrameGroupBy.sum is deprecated. In a future version, numeric_only will default to False. Either specify numeric_only or select only columns which should be valid for the function.\n",
            "  aggregated_df = dataframe.groupby(group_by_columns).agg(aggregation_functions).reset_index()\n"
          ]
        }
      ]
    },
    {
      "cell_type": "markdown",
      "source": [
        "# 5. Sorting"
      ],
      "metadata": {
        "id": "FEBbIwauxh3r"
      }
    },
    {
      "cell_type": "code",
      "source": [
        "def sort_data(dataframe, column_name, ascending=True):\n",
        "    \"\"\"\n",
        "    Sorts a DataFrame based on a column.\n",
        "\n",
        "    Parameters:\n",
        "        dataframe (pd.DataFrame): The DataFrame to be sorted.\n",
        "        column_name (str): The name of the column to sort by.\n",
        "        ascending (bool, optional): Whether to sort in ascending order. Default is True.\n",
        "\n",
        "    Returns:\n",
        "        pd.DataFrame: The sorted DataFrame.\n",
        "    \"\"\"\n",
        "    sorted_df = dataframe.sort_values(by=column_name, ascending=ascending)\n",
        "    return sorted_df"
      ],
      "metadata": {
        "id": "mT_t-AVCxk0S"
      },
      "execution_count": 68,
      "outputs": []
    },
    {
      "cell_type": "code",
      "source": [
        "sorted_df = sort_data(aggregated_df, 'Profit', ascending=False)\n",
        "\n",
        "print(sorted_df.head())"
      ],
      "metadata": {
        "colab": {
          "base_uri": "https://localhost:8080/"
        },
        "id": "QIpZ_U0Oyysg",
        "outputId": "bb2d0689-3960-4545-d92b-ce1d29d030e8"
      },
      "execution_count": 69,
      "outputs": [
        {
          "output_type": "stream",
          "name": "stdout",
          "text": [
            "          Category      Profit\n",
            "2       Technology  43723.8178\n",
            "1  Office Supplies  37926.4257\n",
            "0        Furniture  17409.3833\n"
          ]
        }
      ]
    },
    {
      "cell_type": "markdown",
      "source": [
        "# 6. Visualize"
      ],
      "metadata": {
        "id": "_cDzgH583p3L"
      }
    },
    {
      "cell_type": "code",
      "source": [
        "import matplotlib.pyplot as plt\n",
        "\n",
        "plt.figure(figsize=(8, 6))\n",
        "plt.bar(sorted_df['Category'], sorted_df['Profit'], color='skyblue')\n",
        "plt.xlabel('Category')\n",
        "plt.ylabel('Profit')\n",
        "plt.title('Profit by Category')\n",
        "plt.grid(axis='y', linestyle='--', alpha=0.7)\n",
        "plt.show()"
      ],
      "metadata": {
        "colab": {
          "base_uri": "https://localhost:8080/",
          "height": 564
        },
        "id": "WscMClmt3wHZ",
        "outputId": "ee7a785d-7dd0-4689-8779-769c491300b3"
      },
      "execution_count": 77,
      "outputs": [
        {
          "output_type": "display_data",
          "data": {
            "text/plain": [
              "<Figure size 800x600 with 1 Axes>"
            ],
            "image/png": "[encoded data removed]"
          },
          "metadata": {}
        }
      ]
    }
  ]
}